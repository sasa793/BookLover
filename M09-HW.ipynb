{
 "cells": [
  {
   "cell_type": "markdown",
   "metadata": {},
   "source": [
    "# Metadata\n",
    "\n",
    "```yaml\n",
    "Course:  DS 5100\n",
    "Module:  09 Python Packages\n",
    "Topic:   HW Package Booklover\n",
    "Author:  R.C. Alvarado (adapted)\n",
    "Date:    10 October 2022 (revised)\n",
    "```"
   ]
  },
  {
   "cell_type": "markdown",
   "metadata": {},
   "source": [
    "# Student Info\n",
    "\n",
    "* Name:  Sarah Elmasry\n",
    "* Net UD: Sme5qyx\n",
    "* URL of this file in GitHub:"
   ]
  },
  {
   "cell_type": "markdown",
   "metadata": {},
   "source": [
    "# Instructions\n",
    "\n",
    "In your **private course repo on Rivanna**, use this Jupyter notebook and the data file described to write code that performs the tasks below. \n",
    "\n",
    "Save your notebook in the `M09` directory.\n",
    "\n",
    "Remember to add and commit these files to your repo. \n",
    "\n",
    "Then push your commits to your repo on GitHib.\n",
    "\n",
    "Be sure to fill out the **Student Info** block above.\n",
    "\n",
    "To submit your homework, save your results as a PDF and upload it to GradeScope. More information about how to create the PDF for this assignment are included at the end of this document.\n",
    "\n",
    "**TOTAL POINTS: 8**"
   ]
  },
  {
   "cell_type": "markdown",
   "metadata": {},
   "source": [
    "# Overview\n",
    "\n",
    "Follow the following recipe we used in class to package the code you wrote for `HW08` -- `booklover.py` and `booklover_test.py`.\n",
    "\n",
    "* Create a new git repo for your package.\n",
    "* Create and edit the required files and directories for your package and move the booklover modules there.\n",
    "* Stage, commit, and push all the files you've created.\n",
    "* Install your package with pip.\n",
    "* Outside of your package dir, write a script to test your method.\n",
    "\n",
    "Put this notebook in your repo. This will allow you to execute bash commands and capture the outpunt directly in the notebook.\n",
    "\n",
    "**TOTAL: 8 POINTS**"
   ]
  },
  {
   "cell_type": "markdown",
   "metadata": {
    "tags": []
   },
   "source": [
    "# Tasks"
   ]
  },
  {
   "cell_type": "markdown",
   "metadata": {},
   "source": [
    "## Task 1\n",
    "\n",
    "(5 points)\n",
    "\n",
    "Show the directory structure of your repo by running this command from the root of your repo:"
   ]
  },
  {
   "cell_type": "code",
   "execution_count": 8,
   "metadata": {},
   "outputs": [
    {
     "name": "stdout",
     "output_type": "stream",
     "text": [
      ".:\n",
      "total 36\n",
      "drwxr-sr-x 3 sme5qyx users 2048 Apr  2 14:35 booklover_package\n",
      "-rw-r--r-- 1 sme5qyx users 7048 Mar 31 22:03 LICENSE\n",
      "-rw-r--r-- 1 sme5qyx users 6304 Apr  2 14:31 M09-HW.ipynb\n",
      "-rw-r--r-- 1 sme5qyx users   23 Mar 31 22:03 README.md\n",
      "-rw-r--r-- 1 sme5qyx users  557 Apr  2 14:27 setup.py\n",
      "\n",
      "./booklover_package:\n",
      "total 20\n",
      "-rw-r--r-- 1 sme5qyx users 2124 Apr  1 14:05 booklover.py\n",
      "-rw-r--r-- 1 sme5qyx users 2863 Apr  1 14:05 booklover_test.py\n",
      "-rw-r--r-- 1 sme5qyx users   30 Apr  1 21:24 __init__.py\n"
     ]
    }
   ],
   "source": [
    "!ls -lR\n",
    "#/home/sme5qyx/Documents/MSDS/DS5100/BookLover/booklover_package/"
   ]
  },
  {
   "cell_type": "markdown",
   "metadata": {},
   "source": [
    "## Task 2\n",
    "\n",
    "(1 point)\n",
    "\n",
    "Put the URL of your GitHub repo here. Just paste it into a Markdown cell."
   ]
  },
  {
   "cell_type": "markdown",
   "metadata": {},
   "source": [
    "URL of repo: https://github.com/sasa793/BookLover\n",
    "URL of package: https://github.com/sasa793/BookLover/tree/main/booklover_package"
   ]
  },
  {
   "cell_type": "markdown",
   "metadata": {
    "lines_to_next_cell": 0
   },
   "source": [
    "## Task 3\n",
    "\n",
    "(1 point)\n",
    "\n",
    "Show the results of installing your package.\n",
    "\n",
    "```bash\n",
    "!pip install -e .\n",
    "```"
   ]
  },
  {
   "cell_type": "code",
   "execution_count": 9,
   "metadata": {},
   "outputs": [
    {
     "name": "stdout",
     "output_type": "stream",
     "text": [
      "Obtaining file:///sfs/qumulo/qhome/sme5qyx/Documents/MSDS/DS5100/BookLover\n",
      "Requirement already satisfied: numpy>=1.11.1 in /sfs/applications/202212/software/standard/compiler/gcc/9.2.0/jupyter_conda/2020.11-py3.8/lib/python3.8/site-packages (from booklover-package==1.0.0) (1.19.2)\n",
      "Requirement already satisfied: matplotlib>=1.5.1 in /sfs/applications/202212/software/standard/compiler/gcc/9.2.0/jupyter_conda/2020.11-py3.8/lib/python3.8/site-packages (from booklover-package==1.0.0) (3.3.2)\n",
      "Requirement already satisfied: pandas in /sfs/applications/202212/software/standard/compiler/gcc/9.2.0/jupyter_conda/2020.11-py3.8/lib/python3.8/site-packages (from booklover-package==1.0.0) (1.1.3)\n",
      "Requirement already satisfied: certifi>=2020.06.20 in /sfs/applications/202212/software/standard/compiler/gcc/9.2.0/jupyter_conda/2020.11-py3.8/lib/python3.8/site-packages (from matplotlib>=1.5.1->booklover-package==1.0.0) (2021.10.8)\n",
      "Requirement already satisfied: python-dateutil>=2.1 in /sfs/applications/202212/software/standard/compiler/gcc/9.2.0/jupyter_conda/2020.11-py3.8/lib/python3.8/site-packages (from matplotlib>=1.5.1->booklover-package==1.0.0) (2.8.1)\n",
      "Requirement already satisfied: kiwisolver>=1.0.1 in /sfs/applications/202212/software/standard/compiler/gcc/9.2.0/jupyter_conda/2020.11-py3.8/lib/python3.8/site-packages (from matplotlib>=1.5.1->booklover-package==1.0.0) (1.3.0)\n",
      "Requirement already satisfied: cycler>=0.10 in /sfs/applications/202212/software/standard/compiler/gcc/9.2.0/jupyter_conda/2020.11-py3.8/lib/python3.8/site-packages (from matplotlib>=1.5.1->booklover-package==1.0.0) (0.10.0)\n",
      "Requirement already satisfied: pyparsing!=2.0.4,!=2.1.2,!=2.1.6,>=2.0.3 in /sfs/applications/202212/software/standard/compiler/gcc/9.2.0/jupyter_conda/2020.11-py3.8/lib/python3.8/site-packages (from matplotlib>=1.5.1->booklover-package==1.0.0) (2.4.7)\n",
      "Requirement already satisfied: pillow>=6.2.0 in /sfs/applications/202212/software/standard/compiler/gcc/9.2.0/jupyter_conda/2020.11-py3.8/lib/python3.8/site-packages (from matplotlib>=1.5.1->booklover-package==1.0.0) (8.0.1)\n",
      "Requirement already satisfied: pytz>=2017.2 in /sfs/applications/202212/software/standard/compiler/gcc/9.2.0/jupyter_conda/2020.11-py3.8/lib/python3.8/site-packages (from pandas->booklover-package==1.0.0) (2020.1)\n",
      "Requirement already satisfied: six>=1.5 in /sfs/applications/202212/software/standard/compiler/gcc/9.2.0/jupyter_conda/2020.11-py3.8/lib/python3.8/site-packages (from python-dateutil>=2.1->matplotlib>=1.5.1->booklover-package==1.0.0) (1.15.0)\n",
      "Installing collected packages: booklover-package\n",
      "  Running setup.py develop for booklover-package\n",
      "Successfully installed booklover-package\n"
     ]
    }
   ],
   "source": [
    "#!pwd; cd booklover_package/; pip install --user -e .\n",
    "!pip install --user -e .\n",
    "#!pip install -e .\n",
    "#!pip install -e '.[classic_control]'"
   ]
  },
  {
   "cell_type": "markdown",
   "metadata": {},
   "source": [
    "## Task 4\n",
    "\n",
    "(1 point)\n",
    "\n",
    "Create a file outside your repo to test your package by running it.\n",
    "\n",
    "To do this, import the package into your file and create a BookLover object.\n",
    "\n",
    "Then add a book and then print number books read.\n",
    "\n",
    "Then run the file. \n",
    "\n",
    "Show the output of running the file below, using a command like the following:\n",
    "\n",
    "```bash\n",
    "!python ../book_lover_demo.py\n",
    "```"
   ]
  },
  {
   "cell_type": "code",
   "execution_count": 21,
   "metadata": {},
   "outputs": [
    {
     "name": "stdout",
     "output_type": "stream",
     "text": [
      "Traceback (most recent call last):\n",
      "  File \"/home/sme5qyx/Documents/MSDS/DS5100/DS5100-2022-08-sme5qyx/lessons/M09/book_lover_demo.py\", line 5, in <module>\n",
      "    Sarah_BL.add_book('Never Cry Wolf', 2)\n",
      "  File \"/sfs/qumulo/qhome/sme5qyx/Documents/MSDS/DS5100/BookLover/booklover_package/booklover.py\", line 16, in add_book\n",
      "    if self.book_name in self.book_list['book_name'].values:\n",
      "AttributeError: 'BookLover' object has no attribute 'book_name'\n"
     ]
    }
   ],
   "source": [
    "!python /home/sme5qyx/Documents/MSDS/DS5100/DS5100-2022-08-sme5qyx/lessons/M09/book_lover_demo.py"
   ]
  },
  {
   "cell_type": "code",
   "execution_count": 17,
   "metadata": {},
   "outputs": [],
   "source": [
    "#how do i fix this? like it's a future warning i get but i can still get the value in the normal thing\n",
    "#my HW comment says You made an additional attribute 'book_name' and 'rating' within your 'add_book()' method."
   ]
  },
  {
   "cell_type": "code",
   "execution_count": null,
   "metadata": {},
   "outputs": [],
   "source": []
  }
 ],
 "metadata": {
  "jupytext": {
   "cell_metadata_filter": "-all",
   "main_language": "bash",
   "notebook_metadata_filter": "-all"
  },
  "kernelspec": {
   "display_name": "Python 3",
   "language": "python",
   "name": "python3"
  },
  "language_info": {
   "codemirror_mode": {
    "name": "ipython",
    "version": 3
   },
   "file_extension": ".py",
   "mimetype": "text/x-python",
   "name": "python",
   "nbconvert_exporter": "python",
   "pygments_lexer": "ipython3",
   "version": "3.8.8"
  },
  "vscode": {
   "interpreter": {
    "hash": "c3b963de08c47c3b6758389c5e0978ad73698a111eb508d4e16b558edb8f4cbf"
   }
  },
  "widgets": {
   "application/vnd.jupyter.widget-state+json": {
    "state": {},
    "version_major": 2,
    "version_minor": 0
   }
  }
 },
 "nbformat": 4,
 "nbformat_minor": 5
}
